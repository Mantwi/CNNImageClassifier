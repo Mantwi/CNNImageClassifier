{
  "metadata": {
    "kernelspec": {
      "name": "python3",
      "display_name": "Python 3 (ipykernel)",
      "language": "python"
    },
    "colab": {
      "provenance": [],
      "toc_visible": true
    }
  },
  "nbformat": 4,
  "nbformat_minor": 0,
  "cells": [
    {
      "cell_type": "code",
      "execution_count": 70,
      "metadata": {
        "colab": {
          "base_uri": "https://localhost:8080/"
        },
        "id": "pTWQx6k2fPhv",
        "outputId": "961230d2-1e1a-4a7a-efcb-61664ddf4eca"
      },
      "outputs": [
        {
          "output_type": "stream",
          "name": "stdout",
          "text": [
            "Device used: cpu\n"
          ]
        }
      ],
      "source": [
        "from torch.utils.data import DataLoader, random_split\n",
        "from collections import defaultdict\n",
        "from tqdm import tqdm\n",
        "\n",
        "import matplotlib.pyplot as plt\n",
        "import torch.nn.functional as F\n",
        "import torch.optim as optim\n",
        "import torch.nn as nn\n",
        "import numpy as np\n",
        "\n",
        "import warnings\n",
        "import torch\n",
        "import os\n",
        "\n",
        "warnings.filterwarnings(\"ignore\")\n",
        "device = torch.device(\"cuda\" if torch.cuda.is_available() else \"cpu\")\n",
        "print(f\"Device used: {device}\")"
      ]
    },
    {
      "cell_type": "markdown",
      "metadata": {
        "id": "m3TtC9u3fPhw"
      },
      "source": [
        "# Image Classification\n",
        "\n",
        "For this last assignment, you will use PyTorch to implement a convolutional neural network image classifier. You will walk through the steps of setting up data, implementing training and validation code, specifying parameters, and learning and evaluating a model.\n",
        "\n",
        "First, we will need to import the Imagenette data. In order to run it, download both `imagenette_train.pt` and `imagenett_test.pt` from the shared Google Drive [link](https://drive.google.com/drive/folders/1K8wD1dhGJ2ULG8KoBjDs6uzh5UwmfNw-?usp=sharing). Then, when you have saved them to a directory in your own Google Drive, run the function `import_imagenette_data()`, calling `/content/drive/MyDrive/<DIR_NAME>/` as a parameter."
      ]
    },
    {
      "cell_type": "code",
      "execution_count": 71,
      "metadata": {
        "id": "TPeINNIRfPhx"
      },
      "outputs": [],
      "source": [
        "def import_imagenette_data(\n",
        "    dir: str = \"/content/drive/MyDrive/\"\n",
        "):\n",
        "\n",
        "    from google.colab import drive\n",
        "    drive.mount('/content/drive')\n",
        "    print(\"Downloading Imagenette Data...\", end=\" \")\n",
        "    train_data = torch.load(os.path.join(dir, \"imagenette_train.pt\"))\n",
        "    test_data = torch.load(os.path.join(dir, \"imagenette_test.pt\"))\n",
        "    print(\"Download Complete!\")\n",
        "\n",
        "    return train_data, test_data"
      ]
    },
    {
      "cell_type": "code",
      "execution_count": 4,
      "metadata": {
        "colab": {
          "base_uri": "https://localhost:8080/"
        },
        "id": "cTq7A5pYfPhy",
        "outputId": "55489cd3-3200-48c2-e998-693b5849e30f"
      },
      "outputs": [
        {
          "output_type": "stream",
          "name": "stdout",
          "text": [
            "Drive already mounted at /content/drive; to attempt to forcibly remount, call drive.mount(\"/content/drive\", force_remount=True).\n",
            "Downloading Imagenette Data... Download Complete!\n"
          ]
        }
      ],
      "source": [
        "BASE_DIR = \"/content/drive/MyDrive/ai\"\n",
        "DIR_NAME = \"ai-hw-6/\"\n",
        "FULL_DIR = os.path.join(BASE_DIR, DIR_NAME)\n",
        "all_train_data, test_data = import_imagenette_data(FULL_DIR)"
      ]
    },
    {
      "cell_type": "markdown",
      "metadata": {
        "id": "cbLa1e2xfPhy"
      },
      "source": [
        "# Task 1: `CNN` Class (8 points)\n",
        "\n",
        "Our first task will be to write a class that stores a convolutional neural network model. Write the `__init__()` function. It should define two `nn.Sequential` attributes: `self.conv` and `self.fc`. `self.conv` should be a convolutional sequence; `self.fc` should be a simple multi-layer perceptron.\n",
        "\n",
        "* The first layer of `self.conv` is a 2D convolutional layer that takes the specified number of in-channels, 16 out-channels, a kernel size of 8, and a stride length of 4. Follow this with a rectified linear unit, and then a 2D max pooling layer with kernel size 2 and stride length 2. Finally, repeat these three layers, but this time change the convolutional layer to have 16 in-channels, 32 out-channels, a kernel size of 4, and a stride length of 2. In the end, ```self.conv``` should have a total of 6 ```nn.Module``` objects.\n",
        "\n",
        "* `self.fc` should consist of a flattening layer to flatten the output of `self.conv`. Then add a linear layer, a rectified linear unit, a linear layer, a rectified linear unit, and one final linear layer. The input dimension of `self.fc` should be the same as the output dimension of `self.conv`. The output dimension of `self.fc` should be the number of classes. For all other intermediate input/output dimensions, fix them to any number you'd like (we recommend anything above 256). In the end, ```self.fc``` should have 6 ```nn.Module``` objects.\n",
        "\n",
        "* Be sure to call `super()` so that `CNN` can access methods form `nn.Module`.\n",
        "\n",
        "* Be sure to send each of the constructed sequences to the specified device."
      ]
    },
    {
      "cell_type": "code",
      "execution_count": 85,
      "metadata": {
        "id": "_LIe9_qyfPhy"
      },
      "outputs": [],
      "source": [
        "class CNN(nn.Module):\n",
        "    def __init__(\n",
        "            self,\n",
        "            in_channels,\n",
        "            num_classes,\n",
        "            device,\n",
        "    ):\n",
        "        # TODO\n",
        "        super(CNN, self).__init__()\n",
        "        self.conv = nn.Sequential(\n",
        "            nn.Conv2d(in_channels, 16, kernel_size=8, stride=4),\n",
        "            nn.ReLU(),\n",
        "            nn.MaxPool2d(kernel_size=2, stride=2),\n",
        "            nn.Conv2d(16, 32, kernel_size=4, stride=2),\n",
        "            nn.ReLU(),\n",
        "            nn.MaxPool2d(kernel_size=2, stride=2)\n",
        "        ).to(device)\n",
        "\n",
        "        output_size = 1102\n",
        "        self.fc = nn.Sequential(\n",
        "            nn.Flatten(),\n",
        "            nn.Linear(output_size, 512),\n",
        "            nn.ReLU(),\n",
        "            nn.Linear(512, 256),\n",
        "            nn.ReLU(),\n",
        "            nn.Linear(256, num_classes)\n",
        "        ).to(device)\n",
        "\n",
        "    def forward(\n",
        "            self,\n",
        "            x,\n",
        "    ):\n",
        "        return self.fc(self.conv(x))"
      ]
    },
    {
      "cell_type": "markdown",
      "metadata": {
        "id": "vL3uxqowfPhy"
      },
      "source": [
        "# Task 2: Data and Learning Setup (12 points)\n",
        "\n",
        "At the beginning, we imported two datasets: ```all_train_data``` and ```test_data```. When training a model, we want to train the model parameters on a _subset_ of the training data, and use the remaining training data to _validate_ and generalize the model.\n",
        "\n",
        "* Use ```random_split()``` to separate ```all_train_data``` into a training dataset and a validation dataset. The training dataset should contain 80\\% of the original training data, while the other 20\\% should belong to the validation dataset.\n",
        "\n",
        "* Store the training data, validation data, and test data in three separate `DataLoader` objects. Specify a batch size of 32.\n",
        "\n",
        "*  Print out the number of data points in each of the three datasets (training, validation, and test datasets)."
      ]
    },
    {
      "cell_type": "code",
      "execution_count": 73,
      "metadata": {
        "colab": {
          "base_uri": "https://localhost:8080/"
        },
        "id": "iHziSnJBfPhy",
        "outputId": "e7b8e6f4-0af6-4b55-862d-711f44a1344e"
      },
      "outputs": [
        {
          "output_type": "stream",
          "name": "stdout",
          "text": [
            "Total of all training data: 9103\n",
            "Number of training data points: 7282\n",
            "Number of validation data points: 1821\n",
            "Number of test data points: 3925\n"
          ]
        }
      ],
      "source": [
        "N = len(all_train_data)\n",
        "batch_size = 32\n",
        "train_size = int(0.8 * len(all_train_data))\n",
        "validation_size = len(all_train_data) - train_size\n",
        "\n",
        "\n",
        "train_dataset, validation_dataset = random_split(all_train_data, [train_size, validation_size])\n",
        "train_loader = DataLoader(train_dataset, batch_size=batch_size, shuffle=True)\n",
        "validation_loader = DataLoader(validation_dataset, batch_size=batch_size, shuffle=True)\n",
        "test_loader = DataLoader(test_data, batch_size=batch_size, shuffle=False)\n",
        "\n",
        "print(\"Total of all training data:\", N)\n",
        "print(f\"Number of training data points: {len(train_dataset)}\")\n",
        "print(f\"Number of validation data points: {len(validation_dataset)}\")\n",
        "print(f\"Number of test data points: {len(test_data)}\")\n"
      ]
    },
    {
      "cell_type": "markdown",
      "metadata": {
        "id": "C9iB3kg0fPhy"
      },
      "source": [
        "In order to train and evaluate our model, we need an optimizer and a criterion. For the former, we will use a procedure called [Adam](https://arxiv.org/abs/1412.6980) (ADAptive Moment estimation). Adam works similarly to stochastic gradient descent, except it _adapts_ its step size according to _momentum_, which is a measure of how close it is to a local minimum.\n",
        "\n",
        "For the criterion, we will use cross-entropy loss, which just corresponds to the log loss that we saw in class for logistic regression.\n",
        "\n",
        "* First initialize your CNN model, setting the number of input channels to 3 (one for each color channel), the number of classes to 10, and the device to the device you are currently using.\n",
        "\n",
        "* Initialize an optimizer variable using the Adam optimizer from the PyTorch library. Set the learning rate to $1 \\times 10^{-4}$.\n",
        "\n",
        "* Initialize a criterion variable using the cross-entropy loss criterion from the PyTorch library."
      ]
    },
    {
      "cell_type": "code",
      "execution_count": 74,
      "metadata": {
        "colab": {
          "base_uri": "https://localhost:8080/"
        },
        "id": "dd-3rq3efPhz",
        "outputId": "d78eb784-0795-4297-e421-d275d6b3533d"
      },
      "outputs": [
        {
          "output_type": "execute_result",
          "data": {
            "text/plain": [
              "CNN(\n",
              "  (conv): Sequential(\n",
              "    (0): Conv2d(3, 16, kernel_size=(8, 8), stride=(4, 4))\n",
              "    (1): ReLU()\n",
              "    (2): MaxPool2d(kernel_size=2, stride=2, padding=0, dilation=1, ceil_mode=False)\n",
              "    (3): Conv2d(16, 32, kernel_size=(4, 4), stride=(2, 2))\n",
              "    (4): ReLU()\n",
              "    (5): MaxPool2d(kernel_size=2, stride=2, padding=0, dilation=1, ceil_mode=False)\n",
              "  )\n",
              "  (fc): Sequential(\n",
              "    (0): Flatten(start_dim=1, end_dim=-1)\n",
              "    (1): Linear(in_features=1152, out_features=512, bias=True)\n",
              "    (2): ReLU()\n",
              "    (3): Linear(in_features=512, out_features=256, bias=True)\n",
              "    (4): ReLU()\n",
              "    (5): Linear(in_features=256, out_features=10, bias=True)\n",
              "  )\n",
              ")"
            ]
          },
          "metadata": {},
          "execution_count": 74
        }
      ],
      "source": [
        "cnn_model = CNN(in_channels=3, num_classes=10, device=device)\n",
        "optimizer = optim.Adam(cnn_model.parameters(), lr=1e-4)\n",
        "criterion = nn.CrossEntropyLoss()\n",
        "cnn_model.to(device)\n"
      ]
    },
    {
      "cell_type": "markdown",
      "metadata": {
        "id": "oB6EfZ5wfPhz"
      },
      "source": [
        "# Task 3: `train()` Function (16 points)\n",
        "\n",
        "Now we will implement ```train()```, the main function that will iterate through our data to learn the model. It takes in 7 parameters:\n",
        "\n",
        "1. ```train_data```: this is a DataLoader object containing the training data.\n",
        "2. ```val_data```: this is a DataLoader object containing the validation data.\n",
        "3. ```model```: this is the CNN model that you instantiated to be trained.\n",
        "4. ```criterion```: this is the criterion to be used during training.\n",
        "5. ```optimizer```: this is the optimizer to be used during training.\n",
        "6. ```num_epochs```: this is the number of epochs to train for.\n",
        "7. ```device```: this is the device to send all computations to.\n",
        "\n",
        "To train, you will iterate over the specified number of epochs. In each epoch, you will execute the training phase by iterating through the DataLoaders, calculating losses, and computing gradient update steps. You will then repeat these steps for the validation phase, but without the step of computing gradients and updating the model.\n",
        "\n",
        "Within this function, you should also update the defined `info` dictionary. It contains four lists, updated at the end of each epoch: `\"train_losses\"`, `\"train_accuracies\"`, `\"val_losses\"`, `\"val_accuracies\"`. Return this dictionary when this function completes."
      ]
    },
    {
      "cell_type": "code",
      "execution_count": 86,
      "metadata": {
        "id": "KuW0KtcRfPhz"
      },
      "outputs": [],
      "source": [
        "def train(\n",
        "        train_data: DataLoader,\n",
        "        val_data: DataLoader,\n",
        "        model: nn.Module,\n",
        "        criterion: nn.Module,\n",
        "        optimizer: optim.Optimizer,\n",
        "        num_epochs: int,\n",
        "        device: str = \"cpu\",\n",
        "):\n",
        "    info = defaultdict(list)\n",
        "    best_val_loss = float('inf')\n",
        "\n",
        "    #TODO\n",
        "    for epoch in range(num_epochs):\n",
        "        training_loss_sum, train_total, train_correct = 0.0, 0, 0\n",
        "\n",
        "\n",
        "        model.train()\n",
        "        for inputs, labels in train_data:\n",
        "            inputs, labels = inputs.to(device), labels.to(device)\n",
        "            optimizer.zero_grad()\n",
        "            outputs = model(inputs)\n",
        "            loss = criterion(outputs, labels)\n",
        "            loss.backward()\n",
        "            optimizer.step()\n",
        "\n",
        "\n",
        "            _, predicted = torch.max(outputs.data, 1)\n",
        "            train_total += labels.size(0)\n",
        "            train_correct += (predicted == labels).sum().item()\n",
        "            training_loss_sum += loss.item()\n",
        "\n",
        "\n",
        "        average_train_loss = training_loss_sum / len(train_data)\n",
        "        train_accuracy = train_correct / train_total\n",
        "        info[\"train_losses\"].append(average_train_loss)\n",
        "        info[\"train_accuracies\"].append(train_accuracy)\n",
        "        print(f'Epoch {epoch + 1}/{num_epochs}, Train Loss: {average_train_loss}, Train Acc: {train_accuracy:.2f}')\n",
        "\n",
        "\n",
        "        model.eval()\n",
        "        validation_loss_sum, val_total, val_correct = 0.0, 0, 0\n",
        "        with torch.no_grad():\n",
        "            for inputs, labels in val_data:\n",
        "                inputs, labels = inputs.to(device), labels.to(device)\n",
        "                outputs = model(inputs)\n",
        "                val_loss = criterion(outputs, labels)\n",
        "\n",
        "\n",
        "                _, predicted = torch.max(outputs.data, 1)\n",
        "                val_total += labels.size(0)\n",
        "                val_correct += (predicted == labels).sum().item()\n",
        "                validation_loss_sum += val_loss.item()\n",
        "\n",
        "\n",
        "        average_val_loss = validation_loss_sum / len(val_data)\n",
        "        val_accuracy = val_correct / val_total\n",
        "        info[\"val_losses\"].append(average_val_loss)\n",
        "        info[\"val_accuracies\"].append(val_accuracy)\n",
        "        print(f'Epoch {epoch + 1}/{num_epochs}, Val Loss: {average_val_loss}, Val Acc: {val_accuracy:.2f}')\n",
        "\n",
        "\n",
        "        if average_val_loss < best_val_loss:\n",
        "            best_val_loss = average_val_loss\n",
        "            torch.save(model, '/content/drive/MyDrive/best_model.pth')\n",
        "\n",
        "\n",
        "    torch.save(model, '/content/drive/MyDrive/last_model.pth')\n",
        "\n",
        "    return info\n",
        "\n"
      ]
    },
    {
      "cell_type": "markdown",
      "metadata": {
        "id": "gDVABPKcfPhz"
      },
      "source": [
        "Once you have this function implemented, call it to train the model with all of our defined parameters. Use 50 epochs."
      ]
    },
    {
      "cell_type": "code",
      "execution_count": 77,
      "metadata": {
        "colab": {
          "base_uri": "https://localhost:8080/"
        },
        "id": "jvFvETkQfPhz",
        "outputId": "63099b44-abdf-4397-ad70-add6c11285a9"
      },
      "outputs": [
        {
          "output_type": "stream",
          "name": "stdout",
          "text": [
            "Epoch 1/50, Train Loss: 2.1784692260256984, Train Acc: 0.22\n",
            "Epoch 1/50, Val Loss: 2.0107416437383283, Val Acc: 0.29\n",
            "Epoch 2/50, Train Loss: 1.8836175422919423, Train Acc: 0.34\n",
            "Epoch 2/50, Val Loss: 1.8394376855147512, Val Acc: 0.36\n",
            "Epoch 3/50, Train Loss: 1.7489139568387417, Train Acc: 0.40\n",
            "Epoch 3/50, Val Loss: 1.7729431997265732, Val Acc: 0.37\n",
            "Epoch 4/50, Train Loss: 1.6650273198621315, Train Acc: 0.43\n",
            "Epoch 4/50, Val Loss: 1.7118350894827592, Val Acc: 0.41\n",
            "Epoch 5/50, Train Loss: 1.5776895169626202, Train Acc: 0.46\n",
            "Epoch 5/50, Val Loss: 1.678546719383775, Val Acc: 0.42\n",
            "Epoch 6/50, Train Loss: 1.5252817314967775, Train Acc: 0.49\n",
            "Epoch 6/50, Val Loss: 1.6015301022613257, Val Acc: 0.45\n",
            "Epoch 7/50, Train Loss: 1.4576184059444226, Train Acc: 0.51\n",
            "Epoch 7/50, Val Loss: 1.5197763589390538, Val Acc: 0.48\n",
            "Epoch 8/50, Train Loss: 1.3850308630550117, Train Acc: 0.53\n",
            "Epoch 8/50, Val Loss: 1.5535590753220676, Val Acc: 0.48\n",
            "Epoch 9/50, Train Loss: 1.3534857045140183, Train Acc: 0.54\n",
            "Epoch 9/50, Val Loss: 1.4532855236739444, Val Acc: 0.50\n",
            "Epoch 10/50, Train Loss: 1.3042903325536794, Train Acc: 0.56\n",
            "Epoch 10/50, Val Loss: 1.4301126191490574, Val Acc: 0.51\n",
            "Epoch 11/50, Train Loss: 1.2581921065585655, Train Acc: 0.58\n",
            "Epoch 11/50, Val Loss: 1.4208347797393799, Val Acc: 0.52\n",
            "Epoch 12/50, Train Loss: 1.2098548331281596, Train Acc: 0.60\n",
            "Epoch 12/50, Val Loss: 1.4043667358264589, Val Acc: 0.52\n",
            "Epoch 13/50, Train Loss: 1.1650076793474065, Train Acc: 0.61\n",
            "Epoch 13/50, Val Loss: 1.358041943165294, Val Acc: 0.55\n",
            "Epoch 14/50, Train Loss: 1.1238347396515964, Train Acc: 0.63\n",
            "Epoch 14/50, Val Loss: 1.3487084204690498, Val Acc: 0.55\n",
            "Epoch 15/50, Train Loss: 1.090127432555483, Train Acc: 0.64\n",
            "Epoch 15/50, Val Loss: 1.3223820966586732, Val Acc: 0.56\n",
            "Epoch 16/50, Train Loss: 1.0429647175366419, Train Acc: 0.66\n",
            "Epoch 16/50, Val Loss: 1.3217938573736894, Val Acc: 0.56\n",
            "Epoch 17/50, Train Loss: 1.0103699745316255, Train Acc: 0.67\n",
            "Epoch 17/50, Val Loss: 1.3425702327176143, Val Acc: 0.55\n",
            "Epoch 18/50, Train Loss: 0.9686082974076271, Train Acc: 0.68\n",
            "Epoch 18/50, Val Loss: 1.3236650395811649, Val Acc: 0.58\n",
            "Epoch 19/50, Train Loss: 0.9378482385685569, Train Acc: 0.69\n",
            "Epoch 19/50, Val Loss: 1.3117375415668153, Val Acc: 0.58\n",
            "Epoch 20/50, Train Loss: 0.8868614483559341, Train Acc: 0.71\n",
            "Epoch 20/50, Val Loss: 1.442584568994087, Val Acc: 0.53\n",
            "Epoch 21/50, Train Loss: 0.8534509764428724, Train Acc: 0.72\n",
            "Epoch 21/50, Val Loss: 1.3628089344292356, Val Acc: 0.57\n",
            "Epoch 22/50, Train Loss: 0.8043867245055082, Train Acc: 0.74\n",
            "Epoch 22/50, Val Loss: 1.380051264637395, Val Acc: 0.57\n",
            "Epoch 23/50, Train Loss: 0.7678898171636096, Train Acc: 0.75\n",
            "Epoch 23/50, Val Loss: 1.329574507579469, Val Acc: 0.58\n",
            "Epoch 24/50, Train Loss: 0.7200123446813801, Train Acc: 0.77\n",
            "Epoch 24/50, Val Loss: 1.36602306784245, Val Acc: 0.58\n",
            "Epoch 25/50, Train Loss: 0.6801480203866959, Train Acc: 0.78\n",
            "Epoch 25/50, Val Loss: 1.3595114799967982, Val Acc: 0.58\n",
            "Epoch 26/50, Train Loss: 0.6254894268094447, Train Acc: 0.80\n",
            "Epoch 26/50, Val Loss: 1.425236349565941, Val Acc: 0.57\n",
            "Epoch 27/50, Train Loss: 0.5873604530566617, Train Acc: 0.81\n",
            "Epoch 27/50, Val Loss: 1.4139499089174103, Val Acc: 0.57\n",
            "Epoch 28/50, Train Loss: 0.538961692794896, Train Acc: 0.83\n",
            "Epoch 28/50, Val Loss: 1.474061175396568, Val Acc: 0.56\n",
            "Epoch 29/50, Train Loss: 0.49990848066252574, Train Acc: 0.84\n",
            "Epoch 29/50, Val Loss: 1.4666612451536614, Val Acc: 0.57\n",
            "Epoch 30/50, Train Loss: 0.45509740559939754, Train Acc: 0.86\n",
            "Epoch 30/50, Val Loss: 1.5482536292912668, Val Acc: 0.57\n",
            "Epoch 31/50, Train Loss: 0.41989080666711454, Train Acc: 0.87\n",
            "Epoch 31/50, Val Loss: 1.551967558107878, Val Acc: 0.57\n",
            "Epoch 32/50, Train Loss: 0.36911448953967346, Train Acc: 0.89\n",
            "Epoch 32/50, Val Loss: 1.5849140401472126, Val Acc: 0.56\n",
            "Epoch 33/50, Train Loss: 0.328311120241619, Train Acc: 0.90\n",
            "Epoch 33/50, Val Loss: 1.6472155681827612, Val Acc: 0.56\n",
            "Epoch 34/50, Train Loss: 0.29039217355219943, Train Acc: 0.92\n",
            "Epoch 34/50, Val Loss: 1.6925592736194008, Val Acc: 0.56\n",
            "Epoch 35/50, Train Loss: 0.2545641113334058, Train Acc: 0.93\n",
            "Epoch 35/50, Val Loss: 1.810940658837034, Val Acc: 0.57\n",
            "Epoch 36/50, Train Loss: 0.21523898562187688, Train Acc: 0.95\n",
            "Epoch 36/50, Val Loss: 1.8518437115769637, Val Acc: 0.56\n",
            "Epoch 37/50, Train Loss: 0.18556246277467722, Train Acc: 0.96\n",
            "Epoch 37/50, Val Loss: 1.9609142395488002, Val Acc: 0.56\n",
            "Epoch 38/50, Train Loss: 0.16125312633812428, Train Acc: 0.96\n",
            "Epoch 38/50, Val Loss: 1.9675695802036084, Val Acc: 0.56\n",
            "Epoch 39/50, Train Loss: 0.13437059735715912, Train Acc: 0.97\n",
            "Epoch 39/50, Val Loss: 2.0203051462508084, Val Acc: 0.57\n",
            "Epoch 40/50, Train Loss: 0.10670012446414483, Train Acc: 0.98\n",
            "Epoch 40/50, Val Loss: 2.22586827319965, Val Acc: 0.55\n",
            "Epoch 41/50, Train Loss: 0.09661101120965261, Train Acc: 0.98\n",
            "Epoch 41/50, Val Loss: 2.191518003480476, Val Acc: 0.56\n",
            "Epoch 42/50, Train Loss: 0.08062999033810277, Train Acc: 0.99\n",
            "Epoch 42/50, Val Loss: 2.2475075397575113, Val Acc: 0.56\n",
            "Epoch 43/50, Train Loss: 0.07166065126984265, Train Acc: 0.99\n",
            "Epoch 43/50, Val Loss: 2.3473914621169105, Val Acc: 0.55\n",
            "Epoch 44/50, Train Loss: 0.058646408702132474, Train Acc: 0.99\n",
            "Epoch 44/50, Val Loss: 2.4081737723266867, Val Acc: 0.54\n",
            "Epoch 45/50, Train Loss: 0.04671205308598777, Train Acc: 0.99\n",
            "Epoch 45/50, Val Loss: 2.494401076383758, Val Acc: 0.56\n",
            "Epoch 46/50, Train Loss: 0.032542534064289114, Train Acc: 1.00\n",
            "Epoch 46/50, Val Loss: 2.6127027147694637, Val Acc: 0.54\n",
            "Epoch 47/50, Train Loss: 0.030489730419950525, Train Acc: 1.00\n",
            "Epoch 47/50, Val Loss: 2.649380748732048, Val Acc: 0.56\n",
            "Epoch 48/50, Train Loss: 0.032576902256870086, Train Acc: 1.00\n",
            "Epoch 48/50, Val Loss: 2.6907271272257756, Val Acc: 0.56\n",
            "Epoch 49/50, Train Loss: 0.035471322678699437, Train Acc: 0.99\n",
            "Epoch 49/50, Val Loss: 2.8465710690146997, Val Acc: 0.54\n",
            "Epoch 50/50, Train Loss: 0.02787633770014764, Train Acc: 1.00\n",
            "Epoch 50/50, Val Loss: 2.9034227697472823, Val Acc: 0.55\n"
          ]
        }
      ],
      "source": [
        "# Call the training function\n",
        "train_info = train(train_loader, validation_loader, cnn_model, criterion, optimizer, num_epochs=50)\n"
      ]
    },
    {
      "cell_type": "markdown",
      "metadata": {
        "id": "d_wi_mZYfPhz"
      },
      "source": [
        "# Task 4: Loss and Accuracy Curves (8 points)\n",
        "\n",
        "Use the ```plot_info()``` function below to plot the training and validation losses and accuracies in `info`. Then briefly answer the following questions.\n",
        "\n",
        "* Give a qualitative description of the training and validation loss curves. What do you notice about the loss curves in relation to each other?\n",
        "\n",
        "* Let's focus on the validation loss and accuracy curves. Around how many epochs does the model begin to overfit? What do the loss and accuracy curves look like when this happens?\n",
        "\n",
        "* Let's zoom in once more on the validation loss curve only. How does this curve inform you on when your model has the best performance without overfitting the training data?"
      ]
    },
    {
      "cell_type": "code",
      "execution_count": 78,
      "metadata": {
        "id": "8Vy_U3jnfPhz"
      },
      "outputs": [],
      "source": [
        "def plot_info(info):\n",
        "    fig, ax = plt.axes = plt.subplots(1, 2, figsize=(10, 3))\n",
        "    ax[0].plot(info[\"train_losses\"], label=\"Train Loss\")\n",
        "    ax[0].plot(info[\"val_losses\"], label=\"Validation Loss\")\n",
        "    ax[0].set_xlabel(\"Epochs\")\n",
        "    ax[0].set_ylabel(\"Loss\")\n",
        "    ax[0].set_title(\"Loss vs. Epochs\")\n",
        "    ax[0].legend()\n",
        "    ax[1].plot(info[\"train_accuracies\"], label=\"Train Accuracy\")\n",
        "    ax[1].plot(info[\"val_accuracies\"], label=\"Validation Accuracy\")\n",
        "    ax[1].set_xlabel(\"Epochs\")\n",
        "    ax[1].set_ylabel(\"Accuracy\")\n",
        "    ax[1].set_title(\"Accuracy vs. Epochs\")\n",
        "    ax[1].legend()\n",
        "    plt.show()"
      ]
    },
    {
      "cell_type": "code",
      "execution_count": 79,
      "metadata": {
        "colab": {
          "base_uri": "https://localhost:8080/",
          "height": 333
        },
        "id": "vhp4pzuZfPh0",
        "outputId": "e2e8a072-fd61-4470-9552-432d4c631b92"
      },
      "outputs": [
        {
          "output_type": "display_data",
          "data": {
            "text/plain": [
              "<Figure size 1000x300 with 2 Axes>"
            ],
            "image/png": "[encoded data removed]"
          },
          "metadata": {}
        }
      ],
      "source": [
        "plot_info(train_info)"
      ]
    },
    {
      "cell_type": "markdown",
      "metadata": {
        "id": "EUG6vCYrfPh0"
      },
      "source": [
        "# Task 5: `test()` Function (8 points)\n",
        "\n",
        "The last task in most learning tasks is to obtain a final evaluation of a model's performance on test data. Implement the `test()` function below, which takes a (test) dataset and model. It should then perform prediction on each data instance and compute and return the overall accuracy. Its implementation should be relatively similar to that of `train()`."
      ]
    },
    {
      "cell_type": "code",
      "execution_count": 80,
      "metadata": {
        "id": "vT5hzlFCfPh0"
      },
      "outputs": [],
      "source": [
        "def test(test_data, model):\n",
        "    #TODO\n",
        "    correct = 0\n",
        "    total = 0\n",
        "    model.eval()\n",
        "\n",
        "    with torch.no_grad():\n",
        "        for inputs, labels in test_data:\n",
        "            inputs = inputs.to(device)\n",
        "            outputs = model(inputs)\n",
        "            _, predicted = torch.max(outputs.data, 1)\n",
        "            total += labels.size(0)\n",
        "            correct += (predicted == labels).sum().item()\n",
        "\n",
        "    accuracy = correct / total\n",
        "    return accuracy\n"
      ]
    },
    {
      "cell_type": "markdown",
      "metadata": {
        "id": "LrmUvTxJfPh0"
      },
      "source": [
        "# Task 6: Model Comparison (8 points)\n",
        "\n",
        "Let's retrieve the \"best\" model from the training procedure and compare it against the \"last\" one that we obtain after 50 epochs. Modify the `train()` from Part 3 to include the following:\n",
        "\n",
        "* Save the model with the lowest validation loss to ```best_model.pth``` using `torch.save()`. You can do this by comparing each epoch's loss to the lowest one seen so far, and overriding the previous best model with the current one if you see a lower loss.\n",
        "\n",
        "* Save the model at the end of the training loop to ```last_model.pth```.\n",
        "\n",
        "After making these additions, instantiate a new model, train it using the same parameters as Task 3, and save your best and last models. Then, evaluate both models on the testing data using your `test()` function. Print the accuracies returned by each."
      ]
    },
    {
      "cell_type": "code",
      "execution_count": 81,
      "metadata": {
        "colab": {
          "base_uri": "https://localhost:8080/"
        },
        "id": "pq56_r-BfPh0",
        "outputId": "774774da-b6a7-4190-8c2e-86aca8fcdf4c"
      },
      "outputs": [
        {
          "output_type": "stream",
          "name": "stdout",
          "text": [
            "Epoch 1/50, Train Loss: 0.0203064781166368, Train Acc: 1.00\n",
            "Epoch 1/50, Val Loss: 2.9042187448133503, Val Acc: 0.55\n",
            "Epoch 2/50, Train Loss: 0.020245777073381634, Train Acc: 1.00\n",
            "Epoch 2/50, Val Loss: 2.908844370591013, Val Acc: 0.55\n",
            "Epoch 3/50, Train Loss: 0.020298248170180607, Train Acc: 1.00\n",
            "Epoch 3/50, Val Loss: 2.904871820357808, Val Acc: 0.55\n",
            "Epoch 4/50, Train Loss: 0.02026030546658787, Train Acc: 1.00\n",
            "Epoch 4/50, Val Loss: 2.905251572006627, Val Acc: 0.55\n",
            "Epoch 5/50, Train Loss: 0.020243646199161417, Train Acc: 1.00\n",
            "Epoch 5/50, Val Loss: 2.902282758762962, Val Acc: 0.55\n",
            "Epoch 6/50, Train Loss: 0.020258650531902452, Train Acc: 1.00\n",
            "Epoch 6/50, Val Loss: 2.905884723914297, Val Acc: 0.55\n",
            "Epoch 7/50, Train Loss: 0.020264825873534408, Train Acc: 1.00\n",
            "Epoch 7/50, Val Loss: 2.903839611170585, Val Acc: 0.55\n",
            "Epoch 8/50, Train Loss: 0.020299727042009563, Train Acc: 1.00\n",
            "Epoch 8/50, Val Loss: 2.9040136379108095, Val Acc: 0.55\n",
            "Epoch 9/50, Train Loss: 0.020248443801201096, Train Acc: 1.00\n",
            "Epoch 9/50, Val Loss: 2.902969033048864, Val Acc: 0.55\n",
            "Epoch 10/50, Train Loss: 0.020250037526956907, Train Acc: 1.00\n",
            "Epoch 10/50, Val Loss: 2.9043000946965134, Val Acc: 0.55\n",
            "Epoch 11/50, Train Loss: 0.02024710860017589, Train Acc: 1.00\n",
            "Epoch 11/50, Val Loss: 2.905864627737748, Val Acc: 0.55\n",
            "Epoch 12/50, Train Loss: 0.020273159738025515, Train Acc: 1.00\n",
            "Epoch 12/50, Val Loss: 2.9060526103304145, Val Acc: 0.55\n",
            "Epoch 13/50, Train Loss: 0.020251639251670752, Train Acc: 1.00\n",
            "Epoch 13/50, Val Loss: 2.9031725578140795, Val Acc: 0.55\n",
            "Epoch 14/50, Train Loss: 0.020254208471446315, Train Acc: 1.00\n",
            "Epoch 14/50, Val Loss: 2.9056958984910395, Val Acc: 0.55\n",
            "Epoch 15/50, Train Loss: 0.020257672027423325, Train Acc: 1.00\n",
            "Epoch 15/50, Val Loss: 2.9013875576487758, Val Acc: 0.55\n",
            "Epoch 16/50, Train Loss: 0.020326662849504174, Train Acc: 1.00\n",
            "Epoch 16/50, Val Loss: 2.9029990434646606, Val Acc: 0.55\n",
            "Epoch 17/50, Train Loss: 0.020307027506070177, Train Acc: 1.00\n",
            "Epoch 17/50, Val Loss: 2.9027610306154217, Val Acc: 0.55\n",
            "Epoch 18/50, Train Loss: 0.02025597101780014, Train Acc: 1.00\n",
            "Epoch 18/50, Val Loss: 2.905837711535002, Val Acc: 0.55\n",
            "Epoch 19/50, Train Loss: 0.02023987288345795, Train Acc: 1.00\n",
            "Epoch 19/50, Val Loss: 2.90527139630234, Val Acc: 0.55\n",
            "Epoch 20/50, Train Loss: 0.020265240344758097, Train Acc: 1.00\n",
            "Epoch 20/50, Val Loss: 2.904085872466104, Val Acc: 0.55\n",
            "Epoch 21/50, Train Loss: 0.02024945595685654, Train Acc: 1.00\n",
            "Epoch 21/50, Val Loss: 2.904604621100844, Val Acc: 0.55\n",
            "Epoch 22/50, Train Loss: 0.020248794372667345, Train Acc: 1.00\n",
            "Epoch 22/50, Val Loss: 2.9040795230028924, Val Acc: 0.55\n",
            "Epoch 23/50, Train Loss: 0.0203237302730007, Train Acc: 1.00\n",
            "Epoch 23/50, Val Loss: 2.90583962934059, Val Acc: 0.55\n",
            "Epoch 24/50, Train Loss: 0.02035218776865421, Train Acc: 1.00\n",
            "Epoch 24/50, Val Loss: 2.9051481088002524, Val Acc: 0.55\n",
            "Epoch 25/50, Train Loss: 0.020247983693128878, Train Acc: 1.00\n",
            "Epoch 25/50, Val Loss: 2.905658908057631, Val Acc: 0.55\n",
            "Epoch 26/50, Train Loss: 0.020270860476190585, Train Acc: 1.00\n",
            "Epoch 26/50, Val Loss: 2.905927624618798, Val Acc: 0.55\n",
            "Epoch 27/50, Train Loss: 0.020253526385906235, Train Acc: 1.00\n",
            "Epoch 27/50, Val Loss: 2.9036801467862046, Val Acc: 0.55\n",
            "Epoch 28/50, Train Loss: 0.02025805673921448, Train Acc: 1.00\n",
            "Epoch 28/50, Val Loss: 2.903821436982406, Val Acc: 0.55\n",
            "Epoch 29/50, Train Loss: 0.02027639732675692, Train Acc: 1.00\n",
            "Epoch 29/50, Val Loss: 2.9043156326862802, Val Acc: 0.55\n",
            "Epoch 30/50, Train Loss: 0.02028782677371055, Train Acc: 1.00\n",
            "Epoch 30/50, Val Loss: 2.904043563625269, Val Acc: 0.55\n",
            "Epoch 31/50, Train Loss: 0.020273481722381945, Train Acc: 1.00\n",
            "Epoch 31/50, Val Loss: 2.9021814580549274, Val Acc: 0.55\n",
            "Epoch 32/50, Train Loss: 0.020240198751388674, Train Acc: 1.00\n",
            "Epoch 32/50, Val Loss: 2.9042602150063765, Val Acc: 0.55\n",
            "Epoch 33/50, Train Loss: 0.02026232975951739, Train Acc: 1.00\n",
            "Epoch 33/50, Val Loss: 2.9047933869194567, Val Acc: 0.55\n",
            "Epoch 34/50, Train Loss: 0.020483315775268955, Train Acc: 1.00\n",
            "Epoch 34/50, Val Loss: 2.9051922706135533, Val Acc: 0.55\n",
            "Epoch 35/50, Train Loss: 0.02024798221240768, Train Acc: 1.00\n",
            "Epoch 35/50, Val Loss: 2.9036764512982285, Val Acc: 0.55\n",
            "Epoch 36/50, Train Loss: 0.020260202530934884, Train Acc: 1.00\n",
            "Epoch 36/50, Val Loss: 2.905321522762901, Val Acc: 0.55\n",
            "Epoch 37/50, Train Loss: 0.02025454657626126, Train Acc: 1.00\n",
            "Epoch 37/50, Val Loss: 2.9049732517777827, Val Acc: 0.55\n",
            "Epoch 38/50, Train Loss: 0.020238743474086125, Train Acc: 1.00\n",
            "Epoch 38/50, Val Loss: 2.906404735749228, Val Acc: 0.55\n",
            "Epoch 39/50, Train Loss: 0.020286778016669445, Train Acc: 1.00\n",
            "Epoch 39/50, Val Loss: 2.904630451871638, Val Acc: 0.55\n",
            "Epoch 40/50, Train Loss: 0.020260049934956458, Train Acc: 1.00\n",
            "Epoch 40/50, Val Loss: 2.90371222663344, Val Acc: 0.55\n",
            "Epoch 41/50, Train Loss: 0.02025949837345826, Train Acc: 1.00\n",
            "Epoch 41/50, Val Loss: 2.9033154813866866, Val Acc: 0.55\n",
            "Epoch 42/50, Train Loss: 0.020270232175550375, Train Acc: 1.00\n",
            "Epoch 42/50, Val Loss: 2.9053901580342076, Val Acc: 0.55\n",
            "Epoch 43/50, Train Loss: 0.02027106762500153, Train Acc: 1.00\n",
            "Epoch 43/50, Val Loss: 2.9043656859481546, Val Acc: 0.55\n",
            "Epoch 44/50, Train Loss: 0.02027651890928514, Train Acc: 1.00\n",
            "Epoch 44/50, Val Loss: 2.903990496668899, Val Acc: 0.55\n",
            "Epoch 45/50, Train Loss: 0.02025515746770492, Train Acc: 1.00\n",
            "Epoch 45/50, Val Loss: 2.9030611891495552, Val Acc: 0.55\n",
            "Epoch 46/50, Train Loss: 0.02025159021324821, Train Acc: 1.00\n",
            "Epoch 46/50, Val Loss: 2.9048645705507514, Val Acc: 0.55\n",
            "Epoch 47/50, Train Loss: 0.02030118135326918, Train Acc: 1.00\n",
            "Epoch 47/50, Val Loss: 2.9043880303700766, Val Acc: 0.55\n",
            "Epoch 48/50, Train Loss: 0.020288662680653494, Train Acc: 1.00\n",
            "Epoch 48/50, Val Loss: 2.905139822708933, Val Acc: 0.55\n",
            "Epoch 49/50, Train Loss: 0.020252029378816747, Train Acc: 1.00\n",
            "Epoch 49/50, Val Loss: 2.9047486384709678, Val Acc: 0.55\n",
            "Epoch 50/50, Train Loss: 0.020256896746312186, Train Acc: 1.00\n",
            "Epoch 50/50, Val Loss: 2.905405069652357, Val Acc: 0.55\n"
          ]
        }
      ],
      "source": [
        "new_model = CNN(in_channels=3, num_classes=10, device=device)\n",
        "optimizer = optim.Adam(new_model.parameters(), lr=1e-4)\n",
        "criterion = nn.CrossEntropyLoss()\n",
        "train_info = train(train_loader, validation_loader, cnn_model, criterion, optimizer, num_epochs=50)\n"
      ]
    },
    {
      "cell_type": "code",
      "execution_count": 84,
      "metadata": {
        "colab": {
          "base_uri": "https://localhost:8080/"
        },
        "id": "DAOk1ddQfPh0",
        "outputId": "b2f9a933-2f13-40d8-f9b8-77261960cab8"
      },
      "outputs": [
        {
          "output_type": "stream",
          "name": "stdout",
          "text": [
            "Best model Accuracy: 0.5454777070063694\n",
            "Last model's Accuracy: 0.5454777070063694\n"
          ]
        }
      ],
      "source": [
        "best_model = torch.load('/content/drive/MyDrive/best_model.pth')\n",
        "last_model = torch.load('/content/drive/MyDrive/last_model.pth')\n",
        "best_accuracy = test(test_loader, best_model)\n",
        "last_accuracy = test(test_loader, last_model)\n",
        "print(\"Best model Accuracy:\", best_accuracy)\n",
        "print(\"Last model's Accuracy:\", last_accuracy)"
      ]
    }
  ]
}